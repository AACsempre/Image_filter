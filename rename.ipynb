{
 "cells": [
  {
   "cell_type": "code",
   "execution_count": null,
   "metadata": {},
   "outputs": [],
   "source": [
    "import os\n",
    "\n",
    "\n",
    "folder = \"test/\" #input/output folder\n",
    "\n",
    "\n",
    "# Function to rename multiple files - useful to make timelapse at ffmpeg\n",
    "def main():\n",
    "  \n",
    "    for count, filename in enumerate(os.listdir(folder)):\n",
    "        #print(filename)\n",
    "        \n",
    "        # filetype\n",
    "        name, ext = os.path.splitext(filename)\n",
    "        \n",
    "        # source\n",
    "        src = folder + filename\n",
    "        # rename with a 4 digit incremental number\n",
    "        count2 = \"{:04d}\".format(count)\n",
    "        # destination\n",
    "        dst = folder + \"file-\" + str(count2) + ext\n",
    "\n",
    "        # rename all the files\n",
    "        os.rename(src, dst)\n",
    "\n",
    "    print(\"Well Done!\") \n",
    "    \n",
    "# Driver Code\n",
    "if __name__ == '__main__':\n",
    "      \n",
    "    main()"
   ]
  }
 ],
 "metadata": {
  "kernelspec": {
   "display_name": "Python (py3-TF2.0)",
   "language": "python",
   "name": "py3-tf2.0"
  },
  "language_info": {
   "codemirror_mode": {
    "name": "ipython",
    "version": 3
   },
   "file_extension": ".py",
   "mimetype": "text/x-python",
   "name": "python",
   "nbconvert_exporter": "python",
   "pygments_lexer": "ipython3",
   "version": "3.9.7"
  }
 },
 "nbformat": 4,
 "nbformat_minor": 4
}
