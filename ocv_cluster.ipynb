{
 "cells": [
  {
   "cell_type": "code",
   "execution_count": null,
   "metadata": {},
   "outputs": [],
   "source": [
    "import imutils\n",
    "import cv2\n",
    "\n",
    "import os\n",
    "import pandas as pd\n",
    "import numpy\n",
    "\n",
    "from sklearn.cluster import KMeans\n",
    "#from sklearn.cluster import DBSCAN\n",
    "from sklearn.preprocessing import MinMaxScaler\n",
    "\n",
    "%matplotlib inline\n",
    "import matplotlib.pyplot as plt\n",
    "plt.style.use('seaborn-whitegrid')\n",
    " \n",
    "\n",
    "folder = \"test/\" #input/output folder\n",
    "\n",
    "df = pd.DataFrame(columns=['Name', 'Size', 'Contour', 'Color R', 'Color G', 'Color B'])"
   ]
  },
  {
   "cell_type": "code",
   "execution_count": null,
   "metadata": {},
   "outputs": [],
   "source": [
    "# Function to get features from each image file\n",
    "#print(os.listdir())\n",
    "for count, filename in enumerate(os.listdir(folder)):\n",
    "    #print(filename) \n",
    "    \n",
    "    # verify filetype\n",
    "    name, ext = os.path.splitext(filename)\n",
    "    if ext == \".jpg\" or ext == \".png\":\n",
    "\n",
    "        inp = folder + filename\n",
    "        dst = folder + \"z_\" + filename\n",
    "        src = folder + filename \n",
    "\n",
    "        size = os.path.getsize(folder + filename)\n",
    "        #print(size)\n",
    "\n",
    "        # load the input image from disk\n",
    "        image = cv2.imread(inp)\n",
    "\n",
    "        # Find an average color\n",
    "        #avg_color1 = image.mean(axis=0).mean(axis=0)\n",
    "        #print(avg_color1)\n",
    "        avg_color_per_row = numpy.average(image, axis=0)\n",
    "        avg_color = numpy.average(avg_color_per_row, axis=0)\n",
    "        #print(avg_color)\n",
    "\n",
    "        # Convert the image to grayscale, blur it, and threshold it\n",
    "        gray = cv2.cvtColor(image, cv2.COLOR_BGR2GRAY)\n",
    "        blurred = cv2.GaussianBlur(gray, (1,1), 0)\n",
    "        thresh = cv2.threshold(blurred, 120, 255, cv2.THRESH_BINARY)[1]\n",
    "\n",
    "        # Extract contours from the image\n",
    "        cnts = cv2.findContours(thresh.copy(), cv2.RETR_EXTERNAL,\n",
    "            cv2.CHAIN_APPROX_SIMPLE)\n",
    "        cnts = imutils.grab_contours(cnts)\n",
    "        #print(len(cnts))\n",
    "\n",
    "        # loop over the contours and draw them on the input image\n",
    "        #for c in cnts:\n",
    "        #    cv2.drawContours(image, [c], -1, (0, 0, 255), 2)\n",
    "\n",
    "        # Write the output image to disk\n",
    "        #cv2.imwrite(dst, image)\n",
    "\n",
    "        # Append values to dataframe\n",
    "        df = df.append(dict(zip(df.columns,[filename, size, len(cnts), avg_color[0],avg_color[1],avg_color[2]])), ignore_index=True)"
   ]
  },
  {
   "cell_type": "code",
   "execution_count": null,
   "metadata": {},
   "outputs": [],
   "source": [
    "# Strings to numeric\n",
    "df[\"Contour\"] = pd.to_numeric(df[\"Contour\"])\n",
    "df[\"Size\"]= pd.to_numeric(df[\"Size\"])\n",
    "df.describe()"
   ]
  },
  {
   "cell_type": "code",
   "execution_count": null,
   "metadata": {},
   "outputs": [],
   "source": [
    "# Normalization [0,1]\n",
    "scaler = MinMaxScaler()\n",
    "df0 = scaler.fit_transform(df[['Size', 'Contour', 'Color R', 'Color G', 'Color B']])\n",
    "df1 = pd.DataFrame(df0, columns = ['Size', 'Contour', 'Color R', 'Color G', 'Color B'])\n",
    "df1.describe()"
   ]
  },
  {
   "cell_type": "code",
   "execution_count": null,
   "metadata": {},
   "outputs": [],
   "source": [
    "# Plot example\n",
    "plt.plot(df1[\"Size\"],df1[\"Contour\"], 'o', color='black')"
   ]
  },
  {
   "cell_type": "code",
   "execution_count": null,
   "metadata": {},
   "outputs": [],
   "source": [
    "# Run clustering algorithm\n",
    "k=4\n",
    "ni=20\n",
    "kmeans = KMeans(n_clusters=k, n_init=ni).fit(df1)\n",
    "#kmeans = DBSCAN(eps=0.8, min_samples=5).fit(df1)\n",
    "print(kmeans.labels_)\n",
    "# Centroids to represent\n",
    "centers0 = kmeans.cluster_centers_\n",
    "centers = scaler.inverse_transform(centers0)"
   ]
  },
  {
   "cell_type": "code",
   "execution_count": null,
   "metadata": {},
   "outputs": [],
   "source": [
    "# Add 'y' column with clustering classification\n",
    "df['y'] = kmeans.labels_ \n",
    "df.describe()"
   ]
  },
  {
   "cell_type": "code",
   "execution_count": null,
   "metadata": {},
   "outputs": [],
   "source": [
    "# Plot example with clustering colours and centroids\n",
    "plt.scatter(df[\"Size\"],df[\"Contour\"], c=df['y'], cmap='viridis')\n",
    "plt.scatter(centers[:, 0], centers[:, 1], c='black', s=200, alpha=0.5);"
   ]
  },
  {
   "cell_type": "code",
   "execution_count": null,
   "metadata": {},
   "outputs": [],
   "source": [
    "# Save output file\n",
    "fname = folder + \"out_cluster_res.csv\"\n",
    "df.to_csv(fname)"
   ]
  }
 ],
 "metadata": {
  "kernelspec": {
   "display_name": "Python (py3-TF2.0)",
   "language": "python",
   "name": "py3-tf2.0"
  },
  "language_info": {
   "codemirror_mode": {
    "name": "ipython",
    "version": 3
   },
   "file_extension": ".py",
   "mimetype": "text/x-python",
   "name": "python",
   "nbconvert_exporter": "python",
   "pygments_lexer": "ipython3",
   "version": "3.9.7"
  }
 },
 "nbformat": 4,
 "nbformat_minor": 5
}
