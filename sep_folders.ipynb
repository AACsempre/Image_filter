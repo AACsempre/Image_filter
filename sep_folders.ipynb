{
 "cells": [
  {
   "cell_type": "code",
   "execution_count": 1,
   "metadata": {},
   "outputs": [],
   "source": [
    "import os\n",
    "import pandas as pd\n",
    "\n",
    "folder = \"test/\" #input folder\n",
    "\n",
    "# Load clustering result file\n",
    "dfR = pd.read_csv(folder + 'out_cluster_res.csv', index_col=0)\n",
    "\n",
    "# Function to relocate files in folders according to cluster number\n",
    "def main():\n",
    "    \n",
    "    #count amount of clusters\n",
    "    clusters = dfR.value_counts('y').count()\n",
    "        \n",
    "    for count, filename in enumerate(os.listdir(folder)):\n",
    "            \n",
    "        # verify filetype\n",
    "        name, ext = os.path.splitext(filename)\n",
    "        if ext == \".jpg\" or ext == \".png\":\n",
    "            \n",
    "            # source\n",
    "            src = folder + filename\n",
    "            try:\n",
    "                for i in range(clusters):\n",
    "                    if dfR.loc[count,'y'] == i:\n",
    "                        # destination directory where to move file\n",
    "                        to_dir = folder + \"type_\" + str(i) +\"/\"\n",
    "                        # create directory if not exists\n",
    "                        if not os.path.exists(to_dir):\n",
    "                            os.makedirs(to_dir)\n",
    "                        dst = to_dir + filename\n",
    "                        os.rename(src, dst)\n",
    "            except:\n",
    "                print(\"Table and File list mismatch\")\n",
    "\n",
    "# Driver Code\n",
    "if __name__ == '__main__':\n",
    "      \n",
    "    main()"
   ]
  }
 ],
 "metadata": {
  "kernelspec": {
   "display_name": "Python [conda env:py38-TF] *",
   "language": "python",
   "name": "conda-env-py38-TF-py"
  },
  "language_info": {
   "codemirror_mode": {
    "name": "ipython",
    "version": 3
   },
   "file_extension": ".py",
   "mimetype": "text/x-python",
   "name": "python",
   "nbconvert_exporter": "python",
   "pygments_lexer": "ipython3",
   "version": "3.8.11"
  }
 },
 "nbformat": 4,
 "nbformat_minor": 4
}
