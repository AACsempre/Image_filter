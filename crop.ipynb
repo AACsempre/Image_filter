{
 "cells": [
  {
   "source": [
    "import os\n",
    "import cv2\n",
    "\n",
    "folder = \"test/\" #input folder\n",
    "folder_out = \"test_out/\" #output folder - could be the same as input\n",
    "\n",
    "# Function to crop multiple pictures\n",
    "def main():\n",
    "  \n",
    "    for count, filename in enumerate(os.listdir(folder)):\n",
    "        #print(filename)\n",
    "        \n",
    "        # verify filetype\n",
    "        name, ext = os.path.splitext(filename)\n",
    "        if ext == \".jpg\" or ext == \".png\":\n",
    "            \n",
    "            # source\n",
    "            src = folder + filename\n",
    "            # destination\n",
    "            dst = folder_out + filename\n",
    "            # create directory if not exists\n",
    "            if not os.path.exists(folder_out):\n",
    "                os.makedirs(folder_out)\n",
    "                            \n",
    "            # load the input image from disk\n",
    "            image = cv2.imread(src)\n",
    "            # select pixels area to crop [x,y] from top left\n",
    "            crop_img = image[250:550, 550:850]\n",
    "            # save changes\n",
    "            cv2.imwrite(dst,crop_img)\n",
    "    \n",
    "    print(\"Well Done!\") \n",
    "        \n",
    "# Driver Code\n",
    "if __name__ == '__main__':\n",
    "      \n",
    "    main()    "
   ]
  }
 ]
}
